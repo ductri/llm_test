{
 "cells": [
  {
   "cell_type": "code",
   "execution_count": 1,
   "id": "edd646c0-cd29-45db-bdd0-d79999f01ca3",
   "metadata": {},
   "outputs": [
    {
     "name": "stderr",
     "output_type": "stream",
     "text": [
      "/scratch/tri/llm/env/lib/python3.8/site-packages/tqdm/auto.py:21: TqdmWarning: IProgress not found. Please update jupyter and ipywidgets. See https://ipywidgets.readthedocs.io/en/stable/user_install.html\n",
      "  from .autonotebook import tqdm as notebook_tqdm\n"
     ]
    }
   ],
   "source": [
    "import pandas as pd\n",
    "\n",
    "from our import constants\n",
    "constants.ROOT = '/scratch/tri/llm/'\n",
    "from our.sentiment_gt import SentimentGT"
   ]
  },
  {
   "cell_type": "code",
   "execution_count": 8,
   "id": "4937ccd9-736b-4e5b-a7ad-f2434b3e7e35",
   "metadata": {},
   "outputs": [
    {
     "data": {
      "text/plain": [
       "(148992, 5)"
      ]
     },
     "execution_count": 8,
     "metadata": {},
     "output_type": "execute_result"
    }
   ],
   "source": [
    "df = pd.read_csv(f'{constants.ROOT}data/sentiment_imdb_preference_dataset.csv')\n",
    "df.shape"
   ]
  },
  {
   "cell_type": "code",
   "execution_count": 9,
   "id": "040a6641-f5f7-4403-81d0-78294ce0924a",
   "metadata": {},
   "outputs": [
    {
     "data": {
      "text/html": [
       "<div>\n",
       "<style scoped>\n",
       "    .dataframe tbody tr th:only-of-type {\n",
       "        vertical-align: middle;\n",
       "    }\n",
       "\n",
       "    .dataframe tbody tr th {\n",
       "        vertical-align: top;\n",
       "    }\n",
       "\n",
       "    .dataframe thead th {\n",
       "        text-align: right;\n",
       "    }\n",
       "</style>\n",
       "<table border=\"1\" class=\"dataframe\">\n",
       "  <thead>\n",
       "    <tr style=\"text-align: right;\">\n",
       "      <th></th>\n",
       "      <th>prompt</th>\n",
       "      <th>good_response</th>\n",
       "      <th>good_response_score</th>\n",
       "      <th>bad_response</th>\n",
       "      <th>bad_response_score</th>\n",
       "    </tr>\n",
       "  </thead>\n",
       "  <tbody>\n",
       "    <tr>\n",
       "      <th>27985</th>\n",
       "      <td>Remakes (and sequels) have</td>\n",
       "      <td>the same formula: a great story with some new...</td>\n",
       "      <td>0.998125</td>\n",
       "      <td>become a favorite entertainment tactic of dir...</td>\n",
       "      <td>0.004370</td>\n",
       "    </tr>\n",
       "    <tr>\n",
       "      <th>120309</th>\n",
       "      <td>Lost is largely considered one</td>\n",
       "      <td>of the worst films of all time, but I think i...</td>\n",
       "      <td>0.004167</td>\n",
       "      <td>of MGM's worst movies and one of the studio's...</td>\n",
       "      <td>0.000503</td>\n",
       "    </tr>\n",
       "    <tr>\n",
       "      <th>52451</th>\n",
       "      <td>My girlfriend has</td>\n",
       "      <td>an old VHS tape of the original \"Vampyres\" se...</td>\n",
       "      <td>0.987590</td>\n",
       "      <td>been watching it and she has not found it fun...</td>\n",
       "      <td>0.000497</td>\n",
       "    </tr>\n",
       "    <tr>\n",
       "      <th>1993</th>\n",
       "      <td>I'm glad that I saw</td>\n",
       "      <td>this. I had to catch it the moment it came ou...</td>\n",
       "      <td>0.998912</td>\n",
       "      <td>this movie on tape. This is not a movie to se...</td>\n",
       "      <td>0.002284</td>\n",
       "    </tr>\n",
       "    <tr>\n",
       "      <th>147419</th>\n",
       "      <td>Can such an ambient</td>\n",
       "      <td>, dark, gritty film ever be made? The answer, ...</td>\n",
       "      <td>0.997893</td>\n",
       "      <td>film have a plot?&lt;br /&gt;&lt;br /&gt;This little one ...</td>\n",
       "      <td>0.000518</td>\n",
       "    </tr>\n",
       "    <tr>\n",
       "      <th>143855</th>\n",
       "      <td>I remembered seeing this movie when i</td>\n",
       "      <td>was in high school and i was completely capti...</td>\n",
       "      <td>0.998801</td>\n",
       "      <td>was in the 6th grade. My teacher had it in cl...</td>\n",
       "      <td>0.996524</td>\n",
       "    </tr>\n",
       "    <tr>\n",
       "      <th>36727</th>\n",
       "      <td>I happen to</td>\n",
       "      <td>be one of the members of the 1st American Leg...</td>\n",
       "      <td>0.998348</td>\n",
       "      <td>own both an original VHS (at least, one I can...</td>\n",
       "      <td>0.995709</td>\n",
       "    </tr>\n",
       "    <tr>\n",
       "      <th>106351</th>\n",
       "      <td>The idea of making a film</td>\n",
       "      <td>about how a young girl became the greatest wo...</td>\n",
       "      <td>0.012747</td>\n",
       "      <td>based on a novel that is already established ...</td>\n",
       "      <td>0.003184</td>\n",
       "    </tr>\n",
       "    <tr>\n",
       "      <th>76477</th>\n",
       "      <td>Valentine is now</td>\n",
       "      <td>at No. 1 in the United States. I'm a small pa...</td>\n",
       "      <td>0.997967</td>\n",
       "      <td>an orphan that has lost most of her family an...</td>\n",
       "      <td>0.007335</td>\n",
       "    </tr>\n",
       "    <tr>\n",
       "      <th>129551</th>\n",
       "      <td>Our imp of the perverse did</td>\n",
       "      <td>not do a very good job. The gore and sexual c...</td>\n",
       "      <td>0.002459</td>\n",
       "      <td>not come to play for me at all! The only good...</td>\n",
       "      <td>0.000523</td>\n",
       "    </tr>\n",
       "  </tbody>\n",
       "</table>\n",
       "</div>"
      ],
      "text/plain": [
       "                                       prompt  \\\n",
       "27985              Remakes (and sequels) have   \n",
       "120309         Lost is largely considered one   \n",
       "52451                       My girlfriend has   \n",
       "1993                      I'm glad that I saw   \n",
       "147419                    Can such an ambient   \n",
       "143855  I remembered seeing this movie when i   \n",
       "36727                             I happen to   \n",
       "106351              The idea of making a film   \n",
       "76477                        Valentine is now   \n",
       "129551            Our imp of the perverse did   \n",
       "\n",
       "                                            good_response  \\\n",
       "27985    the same formula: a great story with some new...   \n",
       "120309   of the worst films of all time, but I think i...   \n",
       "52451    an old VHS tape of the original \"Vampyres\" se...   \n",
       "1993     this. I had to catch it the moment it came ou...   \n",
       "147419  , dark, gritty film ever be made? The answer, ...   \n",
       "143855   was in high school and i was completely capti...   \n",
       "36727    be one of the members of the 1st American Leg...   \n",
       "106351   about how a young girl became the greatest wo...   \n",
       "76477    at No. 1 in the United States. I'm a small pa...   \n",
       "129551   not do a very good job. The gore and sexual c...   \n",
       "\n",
       "        good_response_score  \\\n",
       "27985              0.998125   \n",
       "120309             0.004167   \n",
       "52451              0.987590   \n",
       "1993               0.998912   \n",
       "147419             0.997893   \n",
       "143855             0.998801   \n",
       "36727              0.998348   \n",
       "106351             0.012747   \n",
       "76477              0.997967   \n",
       "129551             0.002459   \n",
       "\n",
       "                                             bad_response  bad_response_score  \n",
       "27985    become a favorite entertainment tactic of dir...            0.004370  \n",
       "120309   of MGM's worst movies and one of the studio's...            0.000503  \n",
       "52451    been watching it and she has not found it fun...            0.000497  \n",
       "1993     this movie on tape. This is not a movie to se...            0.002284  \n",
       "147419   film have a plot?<br /><br />This little one ...            0.000518  \n",
       "143855   was in the 6th grade. My teacher had it in cl...            0.996524  \n",
       "36727    own both an original VHS (at least, one I can...            0.995709  \n",
       "106351   based on a novel that is already established ...            0.003184  \n",
       "76477    an orphan that has lost most of her family an...            0.007335  \n",
       "129551   not come to play for me at all! The only good...            0.000523  "
      ]
     },
     "execution_count": 9,
     "metadata": {},
     "output_type": "execute_result"
    }
   ],
   "source": [
    "df.sample(10)"
   ]
  },
  {
   "cell_type": "code",
   "execution_count": 5,
   "id": "56a5160f-1d2e-47a0-b046-023e02f67b4d",
   "metadata": {},
   "outputs": [
    {
     "data": {
      "text/plain": [
       "'This Film was filmed from the viewpoint of a person who would like to see their country destroyed.'"
      ]
     },
     "execution_count": 5,
     "metadata": {},
     "output_type": "execute_result"
    }
   ],
   "source": [
    "df.iloc[144762]['prompt'] + df.iloc[144762]['good_response']"
   ]
  },
  {
   "cell_type": "code",
   "execution_count": 6,
   "id": "56d7128d-f3d9-4536-b90a-e82d57078be7",
   "metadata": {},
   "outputs": [
    {
     "data": {
      "text/plain": [
       "'This Film was a total flop. A little kid just wants to watch something fun and then'"
      ]
     },
     "execution_count": 6,
     "metadata": {},
     "output_type": "execute_result"
    }
   ],
   "source": [
    "df.iloc[144762]['prompt'] + df.iloc[144762]['bad_response']"
   ]
  },
  {
   "cell_type": "code",
   "execution_count": null,
   "id": "a068eee2-d2da-421c-a6c3-5560b2e962f9",
   "metadata": {},
   "outputs": [],
   "source": [
    "sentiment_gt = SentimentGT()"
   ]
  },
  {
   "cell_type": "code",
   "execution_count": null,
   "id": "e179d1f3-96c5-4ec9-8e16-8f4aee0e5aad",
   "metadata": {},
   "outputs": [],
   "source": [
    "text = 'This film is a calculated attempt to lure us into believing the US Government has created a virus that makes us weak'"
   ]
  },
  {
   "cell_type": "code",
   "execution_count": null,
   "id": "84cfd82a-bd47-4617-84b1-dfc3401e74e6",
   "metadata": {},
   "outputs": [],
   "source": [
    "sentiment_gt.get_score(['hate', text, 'love'])"
   ]
  },
  {
   "cell_type": "code",
   "execution_count": 3,
   "id": "fc0d0fbd-7c12-4b79-93b6-ace36b2c57a7",
   "metadata": {},
   "outputs": [
    {
     "data": {
      "text/plain": [
       "24832.0"
      ]
     },
     "execution_count": 3,
     "metadata": {},
     "output_type": "execute_result"
    }
   ],
   "source": [
    "148992/6"
   ]
  },
  {
   "cell_type": "code",
   "execution_count": 11,
   "id": "97bdbcc9-b281-4ac8-ae31-45064b071229",
   "metadata": {},
   "outputs": [
    {
     "data": {
      "text/plain": [
       "0.7411205756265834"
      ]
     },
     "execution_count": 11,
     "metadata": {},
     "output_type": "execute_result"
    }
   ],
   "source": [
    "df['good_response_score'].mean()"
   ]
  },
  {
   "cell_type": "code",
   "execution_count": 12,
   "id": "5bfa610b-f8b5-4b47-a250-5bb853eebeb5",
   "metadata": {},
   "outputs": [
    {
     "data": {
      "text/plain": [
       "0.3938451358522822"
      ]
     },
     "execution_count": 12,
     "metadata": {},
     "output_type": "execute_result"
    }
   ],
   "source": [
    "df['bad_response_score'].mean()"
   ]
  },
  {
   "cell_type": "code",
   "execution_count": null,
   "id": "f59032d6-d748-47a2-b62b-c41267148f8d",
   "metadata": {},
   "outputs": [],
   "source": []
  }
 ],
 "metadata": {
  "kernelspec": {
   "display_name": "Python 3 (ipykernel)",
   "language": "python",
   "name": "python3"
  },
  "language_info": {
   "codemirror_mode": {
    "name": "ipython",
    "version": 3
   },
   "file_extension": ".py",
   "mimetype": "text/x-python",
   "name": "python",
   "nbconvert_exporter": "python",
   "pygments_lexer": "ipython3",
   "version": "3.8.16"
  }
 },
 "nbformat": 4,
 "nbformat_minor": 5
}
